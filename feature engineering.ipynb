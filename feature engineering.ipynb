{
 "cells": [
  {
   "cell_type": "code",
   "execution_count": 6,
   "metadata": {},
   "outputs": [],
   "source": [
    "from pyspark.sql import SparkSession\n",
    "spark = SparkSession.builder.master(\"local[*]\").getOrCreate()\n",
    "\n",
    "from pyspark.sql import *\n",
    "\n",
    "from pyspark.sql import Window\n",
    "from pyspark.sql.functions import rank, col\n",
    "\n",
    "\n",
    "import pyspark.sql.functions as F "
   ]
  },
  {
   "cell_type": "code",
   "execution_count": 7,
   "metadata": {},
   "outputs": [],
   "source": [
    "#Creacion de dataset\n",
    "df = (spark\n",
    "  .read                                              \n",
    "  .option(\"inferSchema\",\"true\")                 \n",
    "  .option(\"header\",\"true\")                           \n",
    "  .csv(\"rating.csv\"))"
   ]
  },
  {
   "cell_type": "markdown",
   "metadata": {},
   "source": [
    "## feature enginering"
   ]
  },
  {
   "cell_type": "code",
   "execution_count": 8,
   "metadata": {},
   "outputs": [],
   "source": [
    "def nb_previous_ratings(df):\n",
    "  df=df.withColumn(\"nb_previous_ratings\",rank().over(Window.partitionBy(\"userId\").orderBy(\"timestamp\")) -1 )\n",
    "  return df\n",
    "\n",
    "def avg_ratings_previous(df):\n",
    "  WindowSpec = Window.partitionBy(\"userId\").rowsBetween(Window.unboundedPreceding,-1)\n",
    "\n",
    "  df = df.withColumn(\"avg_ratings_previous\", F.avg(F.col(\"rating\")).over(WindowSpec))\n",
    "  df = df.orderBy(\"userId\", \"timestamp\")\n",
    "  return df"
   ]
  },
  {
   "cell_type": "code",
   "execution_count": 9,
   "metadata": {},
   "outputs": [
    {
     "name": "stdout",
     "output_type": "stream",
     "text": [
      "+------+-------+------+-------------------+-------------------+\n",
      "|userId|movieId|rating|          timestamp|nb_previous_ratings|\n",
      "+------+-------+------+-------------------+-------------------+\n",
      "|   148|     86|   2.0|2002-04-16 14:06:04|                  0|\n",
      "|   148|    908|   4.0|2002-04-16 14:06:04|                  0|\n",
      "|   148|   2103|   2.0|2002-04-16 14:06:04|                  0|\n",
      "|   148|   1210|   5.0|2002-04-16 14:06:26|                  3|\n",
      "|   148|   1097|   5.0|2002-04-16 14:06:56|                  4|\n",
      "|   148|   1453|   3.0|2002-04-16 14:06:56|                  4|\n",
      "|   148|   1968|   3.0|2002-04-16 14:06:56|                  4|\n",
      "|   148|     18|   1.0|2002-04-16 14:07:27|                  7|\n",
      "|   148|    368|   3.0|2002-04-16 14:07:27|                  7|\n",
      "|   148|   1270|   5.0|2002-04-16 14:07:27|                  7|\n",
      "|   148|   5218|   4.0|2002-04-16 14:08:44|                 10|\n",
      "|   148|   5009|   2.0|2002-04-16 14:09:29|                 11|\n",
      "|   148|   5067|   3.0|2002-04-16 14:10:05|                 12|\n",
      "|   148|   5093|   1.0|2002-04-16 14:10:05|                 12|\n",
      "|   148|   5128|   1.0|2002-04-16 14:10:21|                 14|\n",
      "|   148|   5171|   3.0|2002-04-16 14:10:46|                 15|\n",
      "|   148|   4995|   5.0|2002-04-16 14:12:38|                 16|\n",
      "|   148|   4975|   1.0|2002-04-16 14:12:55|                 17|\n",
      "|   148|   3512|   2.0|2002-04-16 14:13:21|                 18|\n",
      "|   148|   3978|   4.0|2002-04-16 14:13:22|                 19|\n",
      "+------+-------+------+-------------------+-------------------+\n",
      "only showing top 20 rows\n",
      "\n"
     ]
    }
   ],
   "source": [
    "df = nb_previous_ratings(df)\n",
    "df.show()"
   ]
  },
  {
   "cell_type": "code",
   "execution_count": 10,
   "metadata": {},
   "outputs": [
    {
     "name": "stdout",
     "output_type": "stream",
     "text": [
      "+------+-------+------+-------------------+-------------------+--------------------+\n",
      "|userId|movieId|rating|          timestamp|nb_previous_ratings|avg_ratings_previous|\n",
      "+------+-------+------+-------------------+-------------------+--------------------+\n",
      "|     1|    924|   3.5|2004-09-10 03:06:38|                  0|                null|\n",
      "|     1|    919|   3.5|2004-09-10 03:07:01|                  1|                 3.5|\n",
      "|     1|   2683|   3.5|2004-09-10 03:07:30|                  2|                 3.5|\n",
      "|     1|   1584|   3.5|2004-09-10 03:07:36|                  3|                 3.5|\n",
      "|     1|   1079|   4.0|2004-09-10 03:07:45|                  4|                 3.5|\n",
      "|     1|    653|   3.0|2004-09-10 03:08:11|                  5|                 3.6|\n",
      "|     1|   2959|   4.0|2004-09-10 03:08:18|                  6|                 3.5|\n",
      "|     1|    337|   3.5|2004-09-10 03:08:29|                  7|  3.5714285714285716|\n",
      "|     1|   1304|   3.0|2004-09-10 03:08:40|                  8|              3.5625|\n",
      "|     1|   3996|   4.0|2004-09-10 03:08:47|                  9|                 3.5|\n",
      "|     1|    151|   4.0|2004-09-10 03:08:54|                 10|                3.55|\n",
      "|     1|    112|   3.5|2004-09-10 03:09:00|                 11|   3.590909090909091|\n",
      "|     1|   1374|   4.0|2004-09-10 03:09:06|                 12|  3.5833333333333335|\n",
      "|     1|   1246|   3.5|2004-09-10 03:09:19|                 13|  3.6153846153846154|\n",
      "|     1|   1370|   3.0|2004-09-10 03:09:24|                 14|   3.607142857142857|\n",
      "|     1|   2291|   4.0|2004-09-10 03:09:37|                 15|   3.566666666666667|\n",
      "|     1|   4306|   4.0|2004-09-10 03:09:44|                 16|             3.59375|\n",
      "|     1|   1214|   4.0|2004-09-10 03:12:57|                 17|  3.6176470588235294|\n",
      "|     1|   1278|   4.0|2004-09-10 03:13:06|                 18|   3.638888888888889|\n",
      "|     1|   1219|   4.0|2004-09-10 03:13:14|                 19|  3.6578947368421053|\n",
      "+------+-------+------+-------------------+-------------------+--------------------+\n",
      "only showing top 20 rows\n",
      "\n"
     ]
    }
   ],
   "source": [
    "df = avg_ratings_previous(df)\n",
    "df.show()"
   ]
  },
  {
   "cell_type": "code",
   "execution_count": 10,
   "metadata": {},
   "outputs": [],
   "source": [
    "df.repartition(1).write.format('com.databricks.spark.csv').save(\"./data/\",header = 'true')\n",
    "print(\"Process finish\")"
   ]
  },
  {
   "cell_type": "code",
   "execution_count": null,
   "metadata": {},
   "outputs": [],
   "source": []
  }
 ],
 "metadata": {
  "kernelspec": {
   "display_name": "Python 3",
   "language": "python",
   "name": "python3"
  },
  "language_info": {
   "codemirror_mode": {
    "name": "ipython",
    "version": 3
   },
   "file_extension": ".py",
   "mimetype": "text/x-python",
   "name": "python",
   "nbconvert_exporter": "python",
   "pygments_lexer": "ipython3",
   "version": "3.8.8"
  }
 },
 "nbformat": 4,
 "nbformat_minor": 4
}
