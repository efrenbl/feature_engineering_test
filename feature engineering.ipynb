{
 "cells": [
  {
   "cell_type": "code",
   "execution_count": 6,
   "metadata": {},
   "outputs": [],
   "source": [
    "from pyspark.sql import SparkSession\n",
    "spark = SparkSession.builder.master(\"local[*]\").getOrCreate()\n",
    "\n",
    "from pyspark.sql import *\n",
    "\n",
    "from pyspark.sql import Window\n",
    "from pyspark.sql.functions import rank, col\n",
    "\n",
    "\n",
    "import pyspark.sql.functions as F "
   ]
  },
  {
   "cell_type": "code",
   "execution_count": 5,
   "metadata": {},
   "outputs": [],
   "source": [
    "#Creacion de dataset\n",
    "df = (spark\n",
    "  .read                                              \n",
    "  .option(\"inferSchema\",\"true\")                 \n",
    "  .option(\"header\",\"true\")                           \n",
    "  .csv(\"rating.csv\"))"
   ]
  },
  {
   "cell_type": "markdown",
   "metadata": {},
   "source": [
    "## feature enginering"
   ]
  },
  {
   "cell_type": "code",
   "execution_count": 7,
   "metadata": {},
   "outputs": [],
   "source": [
    "def nb_previous_ratings(df):\n",
    "  df=df.withColumn(\"nb_previous_ratings\",rank().over(Window.partitionBy(\"userId\").orderBy(\"timestamp\")) -1 )\n",
    "  return df\n",
    "\n",
    "def avg_ratings_previous(df):\n",
    "  WindowSpec = Window.partitionBy(\"userId\").rowsBetween(Window.unboundedPreceding,-1)\n",
    "\n",
    "  df = df.withColumn(\"avg_ratings_previous\", F.avg(F.col(\"rating\")).over(WindowSpec))\n",
    "  df = df.orderBy(\"userId\", \"timestamp\")\n",
    "  return df"
   ]
  },
  {
   "cell_type": "code",
   "execution_count": 8,
   "metadata": {},
   "outputs": [],
   "source": [
    "df = nb_previous_ratings(df)\n",
    "df = avg_ratings_previous(df)"
   ]
  },
  {
   "cell_type": "code",
   "execution_count": 10,
   "metadata": {},
   "outputs": [],
   "source": [
    "df.repartition(1).write.format('com.databricks.spark.csv').save(\"./data/\",header = 'true')"
   ]
  },
  {
   "cell_type": "code",
   "execution_count": null,
   "metadata": {},
   "outputs": [],
   "source": []
  }
 ],
 "metadata": {
  "kernelspec": {
   "display_name": "Python 3",
   "language": "python",
   "name": "python3"
  },
  "language_info": {
   "codemirror_mode": {
    "name": "ipython",
    "version": 3
   },
   "file_extension": ".py",
   "mimetype": "text/x-python",
   "name": "python",
   "nbconvert_exporter": "python",
   "pygments_lexer": "ipython3",
   "version": "3.8.5"
  }
 },
 "nbformat": 4,
 "nbformat_minor": 4
}
