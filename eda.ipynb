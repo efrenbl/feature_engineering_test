{
 "cells": [
  {
   "cell_type": "code",
   "execution_count": 33,
   "id": "leading-aberdeen",
   "metadata": {},
   "outputs": [],
   "source": [
    "from pyspark.sql import SparkSession\n",
    "from pyspark.sql import SQLContext\n",
    "\n",
    "spark = SparkSession.builder.master(\"local[*]\").getOrCreate()\n",
    "\n",
    "from pyspark.sql import *\n",
    "\n",
    "from pyspark.sql import Window\n",
    "from pyspark.sql.functions import rank, col\n",
    "\n",
    "\n",
    "import pyspark.sql.functions as F "
   ]
  },
  {
   "cell_type": "code",
   "execution_count": 27,
   "id": "western-expression",
   "metadata": {},
   "outputs": [],
   "source": [
    "#Creacion de dataset\n",
    "df = (spark\n",
    "  .read                                              \n",
    "  .option(\"inferSchema\",\"true\")                 \n",
    "  .option(\"header\",\"true\")                           \n",
    "  .csv(\"rating.csv\"))"
   ]
  },
  {
   "cell_type": "code",
   "execution_count": 28,
   "id": "medieval-louis",
   "metadata": {},
   "outputs": [
    {
     "data": {
      "text/plain": [
       "20000263"
      ]
     },
     "execution_count": 28,
     "metadata": {},
     "output_type": "execute_result"
    }
   ],
   "source": [
    "df.count()"
   ]
  },
  {
   "cell_type": "code",
   "execution_count": 20,
   "id": "instrumental-graduate",
   "metadata": {},
   "outputs": [],
   "source": [
    "df=df.limit(10000)"
   ]
  },
  {
   "cell_type": "code",
   "execution_count": 21,
   "id": "surprised-westminster",
   "metadata": {},
   "outputs": [
    {
     "name": "stdout",
     "output_type": "stream",
     "text": [
      "root\n",
      " |-- userId: integer (nullable = true)\n",
      " |-- movieId: integer (nullable = true)\n",
      " |-- rating: double (nullable = true)\n",
      " |-- timestamp: string (nullable = true)\n",
      "\n"
     ]
    }
   ],
   "source": [
    "df.printSchema()"
   ]
  },
  {
   "cell_type": "code",
   "execution_count": 8,
   "id": "protective-freight",
   "metadata": {},
   "outputs": [
    {
     "name": "stdout",
     "output_type": "stream",
     "text": [
      "+-------+------------------+------------------+------------------+-------------------+\n",
      "|summary|            userId|           movieId|            rating|          timestamp|\n",
      "+-------+------------------+------------------+------------------+-------------------+\n",
      "|  count|              1000|              1000|              1000|               1000|\n",
      "|   mean|             5.071|          1976.229|             3.728|               null|\n",
      "| stddev|2.9726748553778606|1921.6101144589638|0.9235089977194961|               null|\n",
      "|    min|                 1|                 1|               0.5|1996-06-05 11:11:21|\n",
      "|    max|                11|             31696|               5.0|2009-08-25 03:27:37|\n",
      "+-------+------------------+------------------+------------------+-------------------+\n",
      "\n"
     ]
    }
   ],
   "source": [
    "df.describe().show()"
   ]
  },
  {
   "cell_type": "code",
   "execution_count": 10,
   "id": "trying-register",
   "metadata": {},
   "outputs": [
    {
     "name": "stdout",
     "output_type": "stream",
     "text": [
      "+-------+-------------------+\n",
      "|summary|          timestamp|\n",
      "+-------+-------------------+\n",
      "|  count|               1000|\n",
      "|   mean|               null|\n",
      "| stddev|               null|\n",
      "|    min|1996-06-05 11:11:21|\n",
      "|    max|2009-08-25 03:27:37|\n",
      "+-------+-------------------+\n",
      "\n"
     ]
    }
   ],
   "source": [
    "df.describe('timestamp').show()"
   ]
  },
  {
   "cell_type": "code",
   "execution_count": 16,
   "id": "adverse-impression",
   "metadata": {},
   "outputs": [
    {
     "name": "stdout",
     "output_type": "stream",
     "text": [
      "+------+-------+------+-------------------+\n",
      "|userId|movieId|rating|          timestamp|\n",
      "+------+-------+------+-------------------+\n",
      "|     1|   4993|   5.0|2005-04-02 23:31:22|\n",
      "|     1|   5952|   5.0|2005-04-02 23:30:19|\n",
      "|     1|   7153|   5.0|2005-04-02 23:30:33|\n",
      "|     1|   8507|   5.0|2004-09-10 03:13:47|\n",
      "+------+-------+------+-------------------+\n",
      "\n"
     ]
    }
   ],
   "source": [
    "df.filter((df.rating==5.0) & (df.userId==1)).show()"
   ]
  },
  {
   "cell_type": "code",
   "execution_count": 17,
   "id": "oriental-humor",
   "metadata": {},
   "outputs": [
    {
     "name": "stdout",
     "output_type": "stream",
     "text": [
      "+------+-----+\n",
      "|rating|count|\n",
      "+------+-----+\n",
      "|   3.5|   80|\n",
      "|   4.0|  357|\n",
      "|   3.0|  250|\n",
      "|   4.5|    9|\n",
      "|   5.0|  212|\n",
      "|   2.0|   76|\n",
      "|   1.0|   13|\n",
      "|   2.5|    1|\n",
      "|   0.5|    1|\n",
      "|   1.5|    1|\n",
      "+------+-----+\n",
      "\n"
     ]
    }
   ],
   "source": [
    "df.groupBy(\"rating\").count().show()"
   ]
  },
  {
   "cell_type": "code",
   "execution_count": 23,
   "id": "answering-input",
   "metadata": {},
   "outputs": [
    {
     "name": "stdout",
     "output_type": "stream",
     "text": [
      "+------+-------+------+-------------------+\n",
      "|userId|movieId|rating|          timestamp|\n",
      "+------+-------+------+-------------------+\n",
      "|     2|    589|   5.0|2000-11-21 15:30:58|\n",
      "|     2|   1544|   5.0|2000-11-21 15:35:43|\n",
      "|     2|    924|   5.0|2000-11-21 15:36:54|\n",
      "|     2|    541|   5.0|2000-11-21 15:36:54|\n",
      "|     2|   1196|   5.0|2000-11-21 15:36:54|\n",
      "|     1|   7153|   5.0|2005-04-02 23:30:33|\n",
      "|     2|   1210|   5.0|2000-11-21 15:29:58|\n",
      "|     2|     62|   5.0|2000-11-21 15:29:58|\n",
      "|     2|   1214|   5.0|2000-11-21 15:36:54|\n",
      "|     2|    260|   5.0|2000-11-21 15:36:54|\n",
      "+------+-------+------+-------------------+\n",
      "only showing top 10 rows\n",
      "\n"
     ]
    }
   ],
   "source": [
    "df.sort((df.rating).desc()).show(10)"
   ]
  },
  {
   "cell_type": "code",
   "execution_count": 30,
   "id": "prerequisite-microwave",
   "metadata": {},
   "outputs": [
    {
     "data": {
      "text/plain": [
       "138493"
      ]
     },
     "execution_count": 30,
     "metadata": {},
     "output_type": "execute_result"
    }
   ],
   "source": [
    "df.select(\"userId\").distinct().count()"
   ]
  },
  {
   "cell_type": "code",
   "execution_count": 29,
   "id": "indian-article",
   "metadata": {},
   "outputs": [
    {
     "data": {
      "text/plain": [
       "26744"
      ]
     },
     "execution_count": 29,
     "metadata": {},
     "output_type": "execute_result"
    }
   ],
   "source": [
    "df.select(\"movieId\").distinct().count()"
   ]
  },
  {
   "cell_type": "code",
   "execution_count": 32,
   "id": "waiting-vienna",
   "metadata": {},
   "outputs": [
    {
     "name": "stdout",
     "output_type": "stream",
     "text": [
      "+------+-----------+\n",
      "|rating|Half_rating|\n",
      "+------+-----------+\n",
      "|   3.5|       1.75|\n",
      "|   3.5|       1.75|\n",
      "|   3.5|       1.75|\n",
      "|   3.5|       1.75|\n",
      "|   3.5|       1.75|\n",
      "|   3.5|       1.75|\n",
      "|   4.0|        2.0|\n",
      "|   4.0|        2.0|\n",
      "|   4.0|        2.0|\n",
      "|   4.0|        2.0|\n",
      "+------+-----------+\n",
      "only showing top 10 rows\n",
      "\n"
     ]
    }
   ],
   "source": [
    "df.withColumn('Half_rating', df.rating/2.0).select('rating','Half_rating').show(10)"
   ]
  },
  {
   "cell_type": "code",
   "execution_count": 34,
   "id": "bridal-advice",
   "metadata": {},
   "outputs": [],
   "source": [
    "df.registerTempTable('df')\n",
    "sqlContext = SQLContext(spark)"
   ]
  },
  {
   "cell_type": "code",
   "execution_count": 35,
   "id": "seasonal-generation",
   "metadata": {},
   "outputs": [
    {
     "name": "stdout",
     "output_type": "stream",
     "text": [
      "+------+-------+------+-------------------+\n",
      "|userId|movieId|rating|          timestamp|\n",
      "+------+-------+------+-------------------+\n",
      "|     1|      2|   3.5|2005-04-02 23:53:47|\n",
      "|     1|     29|   3.5|2005-04-02 23:31:16|\n",
      "|     1|     32|   3.5|2005-04-02 23:33:39|\n",
      "|     1|     47|   3.5|2005-04-02 23:32:07|\n",
      "|     1|     50|   3.5|2005-04-02 23:29:40|\n",
      "+------+-------+------+-------------------+\n",
      "only showing top 5 rows\n",
      "\n"
     ]
    }
   ],
   "source": [
    "sqlContext.sql('select * from df').show(5)"
   ]
  },
  {
   "cell_type": "code",
   "execution_count": 36,
   "id": "primary-velvet",
   "metadata": {},
   "outputs": [
    {
     "name": "stdout",
     "output_type": "stream",
     "text": [
      "+------+-------+\n",
      "|rating|movieId|\n",
      "+------+-------+\n",
      "|   3.5|      2|\n",
      "|   3.5|     29|\n",
      "|   3.5|     32|\n",
      "|   3.5|     47|\n",
      "|   3.5|     50|\n",
      "+------+-------+\n",
      "only showing top 5 rows\n",
      "\n"
     ]
    }
   ],
   "source": [
    "sqlContext.sql('Select rating, movieId from df').show(5)"
   ]
  },
  {
   "cell_type": "code",
   "execution_count": 37,
   "id": "sized-supplier",
   "metadata": {},
   "outputs": [
    {
     "name": "stdout",
     "output_type": "stream",
     "text": [
      "+-------------------+\n",
      "|     max(timestamp)|\n",
      "+-------------------+\n",
      "|2015-03-31 06:40:02|\n",
      "+-------------------+\n",
      "\n"
     ]
    }
   ],
   "source": [
    "sqlContext.sql('SELECT max(timestamp) from df').show(10)"
   ]
  },
  {
   "cell_type": "code",
   "execution_count": 38,
   "id": "confirmed-momentum",
   "metadata": {},
   "outputs": [
    {
     "name": "stdout",
     "output_type": "stream",
     "text": [
      "+------+-------+------+\n",
      "|userId|movieId|rating|\n",
      "+------+-------+------+\n",
      "|     1|   4993|   5.0|\n",
      "|     1|   5952|   5.0|\n",
      "|     1|   7153|   5.0|\n",
      "|     1|   8507|   5.0|\n",
      "|     2|     62|   5.0|\n",
      "+------+-------+------+\n",
      "only showing top 5 rows\n",
      "\n"
     ]
    }
   ],
   "source": [
    "sqlContext.sql('select userId, movieId, rating from df where rating = 5.0').show(5)"
   ]
  },
  {
   "cell_type": "code",
   "execution_count": 39,
   "id": "waiting-notion",
   "metadata": {},
   "outputs": [
    {
     "name": "stdout",
     "output_type": "stream",
     "text": [
      "+------+-------+------+-------------------+\n",
      "|userId|movieId|rating|          timestamp|\n",
      "+------+-------+------+-------------------+\n",
      "|     1|   1196|   4.5|2005-04-02 23:32:22|\n",
      "|     1|   1198|   4.5|2005-04-02 23:30:24|\n",
      "|     1|   4993|   5.0|2005-04-02 23:31:22|\n",
      "|     1|   5952|   5.0|2005-04-02 23:30:19|\n",
      "|     1|   7153|   5.0|2005-04-02 23:30:33|\n",
      "|     1|   8507|   5.0|2004-09-10 03:13:47|\n",
      "|     1|   8636|   4.5|2005-04-02 23:44:53|\n",
      "|     2|   1196|   5.0|2000-11-21 15:36:54|\n",
      "|     2|   1210|   5.0|2000-11-21 15:29:58|\n",
      "|     2|   1214|   5.0|2000-11-21 15:36:54|\n",
      "+------+-------+------+-------------------+\n",
      "only showing top 10 rows\n",
      "\n"
     ]
    }
   ],
   "source": [
    "sqlContext.sql('SELECT userId, movieId, rating, timestamp from df where rating > 4 and movieId > 1000 ').show(10)"
   ]
  },
  {
   "cell_type": "code",
   "execution_count": null,
   "id": "secret-boundary",
   "metadata": {},
   "outputs": [],
   "source": []
  }
 ],
 "metadata": {
  "kernelspec": {
   "display_name": "Python 3",
   "language": "python",
   "name": "python3"
  },
  "language_info": {
   "codemirror_mode": {
    "name": "ipython",
    "version": 3
   },
   "file_extension": ".py",
   "mimetype": "text/x-python",
   "name": "python",
   "nbconvert_exporter": "python",
   "pygments_lexer": "ipython3",
   "version": "3.8.8"
  }
 },
 "nbformat": 4,
 "nbformat_minor": 5
}
